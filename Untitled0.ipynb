{
  "nbformat": 4,
  "nbformat_minor": 0,
  "metadata": {
    "colab": {
      "provenance": [],
      "authorship_tag": "ABX9TyM8S6hry0k6kfDf+ufokgd1"
    },
    "kernelspec": {
      "name": "python3",
      "display_name": "Python 3"
    },
    "language_info": {
      "name": "python"
    }
  },
  "cells": [
    {
      "cell_type": "code",
      "source": [
        "# STEP 1: Import Required Libraries\n",
        "import pandas as pd\n",
        "from sklearn.feature_extraction.text import TfidfVectorizer\n",
        "from sklearn.metrics.pairwise import cosine_similarity"
      ],
      "metadata": {
        "id": "VQr6fdVfmNZB"
      },
      "execution_count": null,
      "outputs": []
    },
    {
      "cell_type": "code",
      "source": [
        "# STEP 2: Load the Dataset\n",
        "# Load the dataset (make sure to use your correct path)\n",
        "df = pd.read_csv(\"/content/Dataset .csv\")\n",
        "print(df.columns)"
      ],
      "metadata": {
        "colab": {
          "base_uri": "https://localhost:8080/"
        },
        "id": "tjTeq6R5mPpz",
        "outputId": "98e2dccd-3470-4832-84f3-1c3cc9c2ed02"
      },
      "execution_count": null,
      "outputs": [
        {
          "output_type": "stream",
          "name": "stdout",
          "text": [
            "Index(['Restaurant ID', 'Restaurant Name', 'Country Code', 'City', 'Address',\n",
            "       'Locality', 'Locality Verbose', 'Longitude', 'Latitude', 'Cuisines',\n",
            "       'Average Cost for two', 'Currency', 'Has Table booking',\n",
            "       'Has Online delivery', 'Is delivering now', 'Switch to order menu',\n",
            "       'Price range', 'Aggregate rating', 'Rating color', 'Rating text',\n",
            "       'Votes'],\n",
            "      dtype='object')\n"
          ]
        }
      ]
    },
    {
      "cell_type": "code",
      "source": [
        "print(df.head())"
      ],
      "metadata": {
        "colab": {
          "base_uri": "https://localhost:8080/"
        },
        "id": "MP-rD53tmpwg",
        "outputId": "2178f2ed-d787-4234-bd43-dfc033195542"
      },
      "execution_count": null,
      "outputs": [
        {
          "output_type": "stream",
          "name": "stdout",
          "text": [
            "   Restaurant ID         Restaurant Name  Country Code              City  \\\n",
            "0        6317637        Le Petit Souffle           162       Makati City   \n",
            "1        6304287        Izakaya Kikufuji           162       Makati City   \n",
            "2        6300002  Heat - Edsa Shangri-La           162  Mandaluyong City   \n",
            "3        6318506                    Ooma           162  Mandaluyong City   \n",
            "4        6314302             Sambo Kojin           162  Mandaluyong City   \n",
            "\n",
            "                                             Address  \\\n",
            "0  Third Floor, Century City Mall, Kalayaan Avenu...   \n",
            "1  Little Tokyo, 2277 Chino Roces Avenue, Legaspi...   \n",
            "2  Edsa Shangri-La, 1 Garden Way, Ortigas, Mandal...   \n",
            "3  Third Floor, Mega Fashion Hall, SM Megamall, O...   \n",
            "4  Third Floor, Mega Atrium, SM Megamall, Ortigas...   \n",
            "\n",
            "                                     Locality  \\\n",
            "0   Century City Mall, Poblacion, Makati City   \n",
            "1  Little Tokyo, Legaspi Village, Makati City   \n",
            "2  Edsa Shangri-La, Ortigas, Mandaluyong City   \n",
            "3      SM Megamall, Ortigas, Mandaluyong City   \n",
            "4      SM Megamall, Ortigas, Mandaluyong City   \n",
            "\n",
            "                                    Locality Verbose   Longitude   Latitude  \\\n",
            "0  Century City Mall, Poblacion, Makati City, Mak...  121.027535  14.565443   \n",
            "1  Little Tokyo, Legaspi Village, Makati City, Ma...  121.014101  14.553708   \n",
            "2  Edsa Shangri-La, Ortigas, Mandaluyong City, Ma...  121.056831  14.581404   \n",
            "3  SM Megamall, Ortigas, Mandaluyong City, Mandal...  121.056475  14.585318   \n",
            "4  SM Megamall, Ortigas, Mandaluyong City, Mandal...  121.057508  14.584450   \n",
            "\n",
            "                           Cuisines  ...          Currency Has Table booking  \\\n",
            "0        French, Japanese, Desserts  ...  Botswana Pula(P)               Yes   \n",
            "1                          Japanese  ...  Botswana Pula(P)               Yes   \n",
            "2  Seafood, Asian, Filipino, Indian  ...  Botswana Pula(P)               Yes   \n",
            "3                   Japanese, Sushi  ...  Botswana Pula(P)                No   \n",
            "4                  Japanese, Korean  ...  Botswana Pula(P)               Yes   \n",
            "\n",
            "  Has Online delivery Is delivering now Switch to order menu Price range  \\\n",
            "0                  No                No                   No           3   \n",
            "1                  No                No                   No           3   \n",
            "2                  No                No                   No           4   \n",
            "3                  No                No                   No           4   \n",
            "4                  No                No                   No           4   \n",
            "\n",
            "   Aggregate rating  Rating color Rating text Votes  \n",
            "0               4.8    Dark Green   Excellent   314  \n",
            "1               4.5    Dark Green   Excellent   591  \n",
            "2               4.4         Green   Very Good   270  \n",
            "3               4.9    Dark Green   Excellent   365  \n",
            "4               4.8    Dark Green   Excellent   229  \n",
            "\n",
            "[5 rows x 21 columns]\n"
          ]
        }
      ]
    },
    {
      "cell_type": "code",
      "source": [
        "# Step 3: Preprocessing\n",
        "df = df.dropna(subset=['Cuisines']).reset_index(drop=True)\n",
        "\n",
        "# Select important columns\n",
        "df_filtered = df[['Restaurant Name', 'Cuisines', 'Average Cost for two', 'Price range', 'Aggregate rating']].copy()\n",
        "\n",
        "# Combine features safely\n",
        "def combine_features(row):\n",
        "    return f\"{row['Cuisines']} cost{row['Average Cost for two']} price{row['Price range']} rating{row['Aggregate rating']}\"\n",
        "\n",
        "df_filtered['combined_features'] = df_filtered.apply(combine_features, axis=1)"
      ],
      "metadata": {
        "id": "tu7e1p6vnKOQ"
      },
      "execution_count": null,
      "outputs": []
    },
    {
      "cell_type": "code",
      "source": [
        "# STEP 5: Convert Combined Text into TF-IDF Vectors\n",
        "vectorizer = TfidfVectorizer()\n",
        "feature_matrix = vectorizer.fit_transform(df_filtered['combined_features'])"
      ],
      "metadata": {
        "id": "fp-bodjLnOgd"
      },
      "execution_count": null,
      "outputs": []
    },
    {
      "cell_type": "code",
      "source": [
        "# STEP 6: Define the Recommendation Function\n",
        "def recommend_restaurants(cuisine, max_cost, min_rating, top_n=5):\n",
        "\n",
        "    # Simulate user preferences as a string\n",
        "    user_pref = f\"{cuisine} cost{max_cost} price1 rating{min_rating}\"\n",
        "\n",
        "    # Transform user preference into a vector\n",
        "    user_vec = vectorizer.transform([user_pref])\n",
        "\n",
        "    # Calculate cosine similarity with all restaurants\n",
        "    similarity = cosine_similarity(user_vec, feature_matrix)\n",
        "\n",
        "    # Get top N similar restaurants\n",
        "    top_indices = similarity[0].argsort()[-top_n:][::-1]\n",
        "\n",
        "    # Return recommended restaurants\n",
        "    return df_filtered.iloc[top_indices][['Restaurant Name', 'Cuisines', 'Average Cost for two', 'Aggregate rating']]"
      ],
      "metadata": {
        "id": "rBkoFE1tnVIT"
      },
      "execution_count": null,
      "outputs": []
    },
    {
      "cell_type": "code",
      "source": [
        "recommendations = recommend_restaurants(cuisine=\"Japanese\", max_cost=800, min_rating=4.0, top_n=5)\n",
        "\n",
        "print(\"Top Restaurant Recommendations:\\n\")\n",
        "print(recommendations)"
      ],
      "metadata": {
        "colab": {
          "base_uri": "https://localhost:8080/"
        },
        "id": "_Mhpr16TnZ2J",
        "outputId": "30031d6d-e65e-4231-ef58-6cbd6099e775"
      },
      "execution_count": null,
      "outputs": [
        {
          "output_type": "stream",
          "name": "stdout",
          "text": [
            "Top Restaurant Recommendations:\n",
            "\n",
            "      Restaurant Name           Cuisines  Average Cost for two  \\\n",
            "6391  Dimsum Vs Sushi  Japanese, Chinese                   800   \n",
            "219      Soho Hibachi           Japanese                    10   \n",
            "421     Marukame Udon           Japanese                    10   \n",
            "1271  Fork with Stick            Chinese                   800   \n",
            "54       Sushi Leblon           Japanese                   250   \n",
            "\n",
            "      Aggregate rating  \n",
            "6391               3.4  \n",
            "219                4.3  \n",
            "421                4.9  \n",
            "1271               4.0  \n",
            "54                 4.6  \n"
          ]
        }
      ]
    }
  ]
}